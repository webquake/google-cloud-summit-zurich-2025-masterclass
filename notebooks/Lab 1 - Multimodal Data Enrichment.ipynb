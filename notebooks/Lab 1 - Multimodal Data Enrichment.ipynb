{
  "cells": [
    {
      "cell_type": "markdown",
      "source": [
        "## Setup"
      ],
      "metadata": {
        "id": "GSQhkviL8N4D"
      },
      "id": "GSQhkviL8N4D"
    },
    {
      "cell_type": "markdown",
      "source": [
        "### Create Remote Connection\n",
        "\n",
        "The CONNECTION resource is the secure, IAM-governed \"handshake\" between BigQuery and other Google Cloud services, most notably Vertex AI and Google Cloud Storage.\n",
        "\n",
        "When a connection is created, it is associated with a unique service account. This service account acts as a proxy for BigQuery, and it must be granted the appropriate IAM roles to interact with external services. For instance, to call a Vertex AI model, the connection's service account needs the\n",
        "Vertex AI User (roles/aiplatform.user) role.\n",
        "\n",
        "This mechanism ensures that all interactions are authenticated, authorized, and auditable, adhering to the principle of least privilege and satisfying enterprise security requirements"
      ],
      "metadata": {
        "id": "TdqsTFEH8U97"
      },
      "id": "TdqsTFEH8U97"
    },
    {
      "cell_type": "code",
      "source": [
        "!bq mk --connection --location=US \\\n",
        "    --project_id=$GOOGLE_CLOUD_PROJECT \\\n",
        "    --connection_type=CLOUD_RESOURCE masterclass"
      ],
      "metadata": {
        "id": "x-bo7lTfxNZy"
      },
      "id": "x-bo7lTfxNZy",
      "execution_count": null,
      "outputs": []
    },
    {
      "cell_type": "code",
      "source": [
        "SERVICE_ACCT = !bq show --format=prettyjson --connection $GOOGLE_CLOUD_PROJECT.us.masterclass | grep \"serviceAccountId\" | cut -d '\"' -f 4\n",
        "SERVICE_ACCT_EMAIL = SERVICE_ACCT[-1]\n",
        "print(SERVICE_ACCT_EMAIL)"
      ],
      "metadata": {
        "id": "QE8pD2ojMetF"
      },
      "id": "QE8pD2ojMetF",
      "execution_count": null,
      "outputs": []
    },
    {
      "cell_type": "code",
      "source": [
        "import os\n",
        "PROJECT_ID = str(os.environ.get(\"GOOGLE_CLOUD_PROJECT\"))\n",
        "!gcloud projects add-iam-policy-binding --format=none --condition=None $PROJECT_ID --member=serviceAccount:$SERVICE_ACCT_EMAIL --role=roles/aiplatform.user"
      ],
      "metadata": {
        "id": "hKy37Xj2M0Q6"
      },
      "id": "hKy37Xj2M0Q6",
      "execution_count": null,
      "outputs": []
    },
    {
      "cell_type": "code",
      "source": [
        "!gcloud projects get-iam-policy $PROJECT_ID --flatten=bindings --filter=bindings.members:serviceAccount:$SERVICE_ACCT_EMAIL --format='value(bindings.role)'"
      ],
      "metadata": {
        "id": "nWMQ0EvXbSAy"
      },
      "id": "nWMQ0EvXbSAy",
      "execution_count": null,
      "outputs": []
    },
    {
      "cell_type": "code",
      "source": [
        "# Restart Kernel\n",
        "import sys\n",
        "\n",
        "if \"google.colab\" in sys.modules:\n",
        "\n",
        "    import IPython\n",
        "\n",
        "    app = IPython.Application.instance()\n",
        "    app.kernel.do_shutdown(True)"
      ],
      "metadata": {
        "id": "YcNSFsVqzjiY"
      },
      "id": "YcNSFsVqzjiY",
      "execution_count": null,
      "outputs": []
    },
    {
      "cell_type": "markdown",
      "source": [
        "### Create Dataset & Register Models\n",
        "\n",
        "The remote model is the primary abstraction layer that makes in-database AI possible. Using a standard CREATE MODEL statement with a REMOTE WITH CONNECTION clause, a data engineer can register an externally hosted model as a callable object within a BigQuery dataset.\n",
        "\n",
        "This remote model can point to a powerful foundation model hosted on Vertex AI, such as Google's Gemini family or partner models from Anthropic and Mistral AI, or even a custom-trained model deployed on a Vertex AI Endpoint.\n",
        "\n",
        "The significance of this abstraction cannot be overstated. It transforms what would otherwise be a complex programming task—involving setting up a development environment, using a client library, managing API keys, and handling HTTP requests—into a simple, familiar SQL function call like ML.GENERATE_TEXT or ML.PREDICT.\n",
        "\n",
        "![GenAI Workflow](https://cloud.google.com/static/bigquery/images/gen-ai-workflow.png)\n",
        "\n",
        "The data engineer operates entirely within the BigQuery environment, while the platform handles the underlying mechanics of invoking the model, passing the data, and returning the results. This is the core mechanism that \"brings the model to the data,\" eliminating the need for complex MLOps pipelines for a wide range of use cases."
      ],
      "metadata": {
        "id": "IBFQa3uR8fX1"
      },
      "id": "IBFQa3uR8fX1"
    },
    {
      "cell_type": "code",
      "source": [
        "%%bigquery\n",
        "CREATE SCHEMA IF NOT EXISTS masterclass\n",
        "OPTIONS (\n",
        "    description = 'Data Lakehouse Mastery masterclass at the Google Cloud Summit Switzerland 2025 in Zurich',\n",
        "    location = 'US');"
      ],
      "metadata": {
        "id": "Qm_TLFP3h6Zo"
      },
      "id": "Qm_TLFP3h6Zo",
      "execution_count": null,
      "outputs": []
    },
    {
      "cell_type": "code",
      "source": [
        "%%bigquery\n",
        "\n",
        "CREATE MODEL IF NOT EXISTS masterclass.gemini_flash\n",
        "  REMOTE WITH CONNECTION `us.masterclass`\n",
        "  OPTIONS (ENDPOINT='gemini-2.0-flash');"
      ],
      "metadata": {
        "id": "CCEgxVrRweNH"
      },
      "id": "CCEgxVrRweNH",
      "execution_count": null,
      "outputs": []
    },
    {
      "cell_type": "code",
      "source": [
        "%%bigquery\n",
        "CREATE MODEL IF NOT EXISTS `masterclass.text_multilingual_embedding`\n",
        "REMOTE WITH CONNECTION `us.masterclass`\n",
        "OPTIONS (endpoint = 'text-multilingual-embedding-002')"
      ],
      "metadata": {
        "id": "PdnzMUoVkVTp"
      },
      "id": "PdnzMUoVkVTp",
      "execution_count": null,
      "outputs": []
    },
    {
      "cell_type": "markdown",
      "source": [
        "## Generating Insights from Text with ML.GENERATE_TEXT"
      ],
      "metadata": {
        "id": "JtNLWkOVHXtv"
      },
      "id": "JtNLWkOVHXtv"
    },
    {
      "cell_type": "markdown",
      "source": [
        "### Perform Sentiment Analysis\n",
        "Next, you will run a SQL query using the ML.GENERATE_TEXT function.\n",
        "\n",
        "This query will feed the text of each movie review into a carefully crafted prompt. The prompt instructs the model to classify the sentiment as 'Positive', 'Negative', or 'Neutral'. The flatten_json_output option is used to automatically parse this JSON into distinct columns in the result set, a powerful feature for data engineers.\n"
      ],
      "metadata": {
        "id": "cWaoMGapClXp"
      },
      "id": "cWaoMGapClXp"
    },
    {
      "cell_type": "code",
      "source": [
        "%%bigquery\n",
        "\n",
        "SELECT\n",
        "  TRIM(ml_generate_text_llm_result,'\\n') AS sentiment,\n",
        "  review\n",
        "FROM\n",
        "  ML.GENERATE_TEXT(\n",
        "    MODEL `masterclass.gemini_flash`,\n",
        "    (\n",
        "      SELECT\n",
        "        CONCAT(\n",
        "          '''Do a sentiment analysis the following movie review.\n",
        "          Return the result as a single word in lower case.\n",
        "          The only allowed results are: `positive`, `negative`, or `neutral`.\n",
        "\n",
        "          Review:\n",
        "          ''',\n",
        "          review\n",
        "        ) AS prompt,\n",
        "        review\n",
        "      FROM\n",
        "        `bigquery-public-data.imdb.reviews`\n",
        "      WHERE\n",
        "        review IS NOT NULL\n",
        "      LIMIT 25\n",
        "    ),\n",
        "    STRUCT(\n",
        "      0.2 AS temperature,\n",
        "      1024 AS max_output_tokens,\n",
        "      TRUE AS flatten_json_output\n",
        "    )\n",
        "  );"
      ],
      "metadata": {
        "id": "5WHDIRMd-sPa"
      },
      "id": "5WHDIRMd-sPa",
      "execution_count": null,
      "outputs": []
    },
    {
      "cell_type": "code",
      "source": [
        "%%bigquery\n",
        "\n",
        "SELECT\n",
        "  TRIM(ml_generate_text_llm_result,'\\n') AS sentiment,\n",
        "  count(*) as cnt\n",
        "FROM\n",
        "  ML.GENERATE_TEXT(\n",
        "    MODEL `masterclass.gemini_flash`,\n",
        "    (\n",
        "      SELECT\n",
        "        CONCAT(\n",
        "          '''Do a sentiment analysis the following movie review.\n",
        "          Return the result as a single word in lower case.\n",
        "          The only allowed results are: `positive`, `negative`, or `neutral`.\n",
        "\n",
        "          Review:\n",
        "          ''',\n",
        "          review\n",
        "        ) AS prompt,\n",
        "        review\n",
        "      FROM\n",
        "        `bigquery-public-data.imdb.reviews`\n",
        "      WHERE\n",
        "        review IS NOT NULL\n",
        "      LIMIT 1000\n",
        "    ),\n",
        "    STRUCT(\n",
        "      0.2 AS temperature,\n",
        "      1024 AS max_output_tokens,\n",
        "      TRUE AS flatten_json_output\n",
        "    )\n",
        "  )\n",
        "group by ml_generate_text_llm_result;"
      ],
      "metadata": {
        "id": "QfED47gzDlKh"
      },
      "id": "QfED47gzDlKh",
      "execution_count": null,
      "outputs": []
    },
    {
      "cell_type": "markdown",
      "source": [
        "### Generate Summaries\n",
        "To demonstrate the model's versatility, you will run a second query using the same llm_model.\n",
        "\n",
        "This time, the prompt will ask for a concise, one-sentence summary of each review, showcasing a different text-to-text transformation task.\n"
      ],
      "metadata": {
        "id": "vT8URwivFzhi"
      },
      "id": "vT8URwivFzhi"
    },
    {
      "cell_type": "code",
      "source": [
        "%%bigquery\n",
        "\n",
        "SELECT\n",
        "  ml_generate_text_result['candidates'][0]['content']['parts'][0]['text'] AS review_summary,\n",
        "  review\n",
        "FROM\n",
        "  ML.GENERATE_TEXT(\n",
        "    MODEL `masterclass.gemini_flash`,\n",
        "    (\n",
        "      SELECT\n",
        "        CONCAT(\n",
        "          'Summarize the following movie review in a single sentence: ',\n",
        "          review) AS prompt,\n",
        "        review\n",
        "      FROM\n",
        "        `bigquery-public-data.imdb.reviews`\n",
        "      WHERE\n",
        "        review IS NOT NULL\n",
        "      LIMIT 10\n",
        "    ),\n",
        "    STRUCT(\n",
        "      0.8 AS temperature,\n",
        "      256 AS max_output_tokens\n",
        "    )\n",
        "  );"
      ],
      "metadata": {
        "id": "h2_2GdJzF9aw"
      },
      "id": "h2_2GdJzF9aw",
      "execution_count": null,
      "outputs": []
    },
    {
      "cell_type": "markdown",
      "source": [
        "## Analyzing Images Directly in BigQuery"
      ],
      "metadata": {
        "id": "fvvWcgKOHfFx"
      },
      "id": "fvvWcgKOHfFx"
    },
    {
      "cell_type": "markdown",
      "source": [
        "### About the dataset\n",
        "\n",
        "The dataset of movie poster images used in this demo are stored in a public Google Cloud Storage bucket: [`gs://cloud-samples-data/vertex-ai/dataset-management/datasets/classic-movie-posters`](https://console.cloud.google.com/storage/browser/cloud-samples-data/vertex-ai/dataset-management/datasets/classic-movie-posters)\n",
        "\n",
        "![Movie Posters](https://storage.googleapis.com/github-repo/generative-ai/gemini/use-cases/applying-llms-to-data/movie-posters.jpeg)"
      ],
      "metadata": {
        "id": "C9bP-Slqj38r"
      },
      "id": "C9bP-Slqj38r"
    },
    {
      "cell_type": "markdown",
      "source": [
        "### Create an Object Table\n",
        "\n",
        "Object tables represent a groundbreaking feature for analyzing unstructured data. An object table is a read-only, table-like interface that is created over a collection of unstructured files (such as images, PDFs, audio, and video) stored in a Google Cloud Storage bucket.\n",
        "\n",
        "When created, the object table exposes the metadata of these files, including a special URI for each object. This URI can be passed directly to a multimodal remote model within a SQL query.\n",
        "\n",
        "This capability unlocks vast stores of previously \"dark data\" for direct analysis within the data warehouse. It obviates the need for complex pre-processing pipelines that would traditionally be required to extract features or metadata from these files. For example, instead of building a Dataflow job that triggers on new image uploads to call the Vision API and load the results into BigQuery, a data engineer can now simply create an object table and query the images directly. This transforms data that was once merely a storage cost into a valuable, queryable asset."
      ],
      "metadata": {
        "id": "8ISgO0oWHkWv"
      },
      "id": "8ISgO0oWHkWv"
    },
    {
      "cell_type": "code",
      "source": [
        "%%bigquery\n",
        "\n",
        "CREATE OR REPLACE EXTERNAL TABLE `masterclass.movie_posters`\n",
        "WITH CONNECTION `us.masterclass`\n",
        "OPTIONS (\n",
        "  object_metadata = 'SIMPLE',\n",
        "  uris = ['gs://cloud-samples-data/vertex-ai/dataset-management/datasets/classic-movie-posters/*']\n",
        ");"
      ],
      "metadata": {
        "id": "FmcRNTkTHsi2"
      },
      "id": "FmcRNTkTHsi2",
      "execution_count": null,
      "outputs": []
    },
    {
      "cell_type": "markdown",
      "source": [
        "### Prompt Gemini to analyze the movie poster image object table"
      ],
      "metadata": {
        "id": "_ESek2cnaHKJ"
      },
      "id": "_ESek2cnaHKJ"
    },
    {
      "cell_type": "code",
      "source": [
        "%%bigquery\n",
        "CREATE OR REPLACE TABLE\n",
        "  `masterclass.movie_posters_results` AS (\n",
        "  SELECT\n",
        "    uri,\n",
        "    REGEXP_EXTRACT(ml_generate_text_llm_result, r'```json\\n([\\s\\S]*?)\\n```') AS ml_generate_text_llm_result\n",
        "  FROM\n",
        "    ML.GENERATE_TEXT( MODEL `masterclass.gemini_flash`,\n",
        "      TABLE `masterclass.movie_posters`,\n",
        "      STRUCT( 0.2 AS temperature,\n",
        "        'For the movie represented by this poster, what is the movie title and year of release? Answer in JSON format with two keys: title, year. title should be string, year should be integer.' AS PROMPT,\n",
        "        TRUE AS FLATTEN_JSON_OUTPUT)));"
      ],
      "metadata": {
        "id": "9P4PzsRNZ0Qe"
      },
      "id": "9P4PzsRNZ0Qe",
      "execution_count": null,
      "outputs": []
    },
    {
      "cell_type": "code",
      "source": [
        "%%bigquery\n",
        "SELECT * FROM `masterclass.movie_posters_results` LIMIT 5;"
      ],
      "metadata": {
        "id": "jCmqJ0yiaJ2x"
      },
      "id": "jCmqJ0yiaJ2x",
      "execution_count": null,
      "outputs": []
    },
    {
      "cell_type": "code",
      "source": [
        "%%bigquery\n",
        "CREATE OR REPLACE VIEW `masterclass.movie_posters_results_formatted`\n",
        "AS\n",
        "(\n",
        "  SELECT uri\n",
        "       , JSON_VALUE(ml_generate_text_llm_result, \"$.title\") AS title\n",
        "       , JSON_VALUE(ml_generate_text_llm_result, \"$.year\") AS year\n",
        "  FROM  `masterclass.movie_posters_results` results\n",
        ")"
      ],
      "metadata": {
        "id": "E899hi-Iaksx"
      },
      "id": "E899hi-Iaksx",
      "execution_count": null,
      "outputs": []
    },
    {
      "cell_type": "code",
      "source": [
        "%%bigquery\n",
        "SELECT * FROM `masterclass.movie_posters_results_formatted` LIMIT 5;"
      ],
      "metadata": {
        "id": "ENpWjkgxa5pS"
      },
      "id": "ENpWjkgxa5pS",
      "execution_count": null,
      "outputs": []
    },
    {
      "cell_type": "markdown",
      "source": [
        "### Prompt Gemini to provide movie summaries for each movie poster image"
      ],
      "metadata": {
        "id": "cBNY799wbPb7"
      },
      "id": "cBNY799wbPb7"
    },
    {
      "cell_type": "code",
      "source": [
        "%%bigquery\n",
        "CREATE OR REPLACE TABLE `masterclass.movie_posters_analyzed`\n",
        "AS\n",
        "SELECT\n",
        "  uri,\n",
        "  REGEXP_EXTRACT(ml_generate_text_llm_result, r'```json\\n([\\s\\S]*?)\\n```') AS result\n",
        "FROM\n",
        "  ML.GENERATE_TEXT(\n",
        "    MODEL `masterclass.gemini_flash`,\n",
        "    (\n",
        "      SELECT\n",
        "      CONCAT('''Analyze the movie poster at the following URI.\n",
        "      Describe its visual elements, infer its genre, and suggest a movie summary.\n",
        "      Return the result in JSON format with three keys: \"summary\", \"genre\", and \"visual_elements\".\n",
        "      URI: ''', posters.uri) AS prompt\n",
        "      , posters.uri\n",
        "      FROM `masterclass.movie_posters` AS posters\n",
        "    ),\n",
        "    STRUCT(\n",
        "      0.2 AS temperature,\n",
        "      1024 AS max_output_tokens,\n",
        "      TRUE AS flatten_json_output\n",
        "    )\n",
        "  );"
      ],
      "metadata": {
        "id": "XNxrOq9UJRGi"
      },
      "id": "XNxrOq9UJRGi",
      "execution_count": null,
      "outputs": []
    },
    {
      "cell_type": "code",
      "source": [
        "%%bigquery\n",
        "CREATE OR REPLACE VIEW `masterclass.movie_posters_analyzed_formatted`\n",
        "AS\n",
        "(\n",
        "  SELECT uri\n",
        "       , JSON_VALUE(result, \"$.summary\") AS summary\n",
        "       , JSON_VALUE(result, \"$.genre\") AS genre\n",
        "       , JSON_VALUE(result, \"$.visual_elements\") AS visual_elements\n",
        "  FROM  `masterclass.movie_posters_analyzed`\n",
        ")"
      ],
      "metadata": {
        "id": "7eVUT70Jld-R"
      },
      "id": "7eVUT70Jld-R",
      "execution_count": null,
      "outputs": []
    },
    {
      "cell_type": "code",
      "source": [
        "%%bigquery\n",
        "SELECT * FROM `masterclass.movie_posters_analyzed_formatted` LIMIT 5;"
      ],
      "metadata": {
        "id": "XLpsK-HKlt9D"
      },
      "id": "XLpsK-HKlt9D",
      "execution_count": null,
      "outputs": []
    },
    {
      "cell_type": "markdown",
      "source": [
        "## Join analysis results with structured data for deeper insights"
      ],
      "metadata": {
        "id": "_OWYMOnOkSlC"
      },
      "id": "_OWYMOnOkSlC"
    },
    {
      "cell_type": "markdown",
      "source": [
        "### Generate text embeddings for title and year associated with movie posters"
      ],
      "metadata": {
        "id": "DBH224Haksqf"
      },
      "id": "DBH224Haksqf"
    },
    {
      "cell_type": "code",
      "source": [
        "%%bigquery\n",
        "CREATE OR REPLACE TABLE `masterclass.movie_posters_results_embeddings`\n",
        "AS\n",
        "(\n",
        "  SELECT *\n",
        "  FROM ML.GENERATE_EMBEDDING(\n",
        "    MODEL `masterclass.text_multilingual_embedding`,\n",
        "    (\n",
        "      SELECT\n",
        "        CONCAT('The movie titled ', title, ' from the year ', year,'.') AS content,\n",
        "        title,\n",
        "        year,\n",
        "        uri\n",
        "      FROM `masterclass.movie_posters_results_formatted`\n",
        "    ),\n",
        "    STRUCT(TRUE AS flatten_json_output))\n",
        "  WHERE
        "    ARRAY_LENGTH(ml_generate_embedding_result) > 0
        ");"
      ],
      "metadata": {
        "id": "JLH5T7sCkrbY"
      },
      "id": "JLH5T7sCkrbY",
      "execution_count": null,
      "outputs": []
    },
    {
      "cell_type": "code",
      "source": [
        "%%bigquery\n",
        "SELECT * FROM `masterclass.movie_posters_results_embeddings` LIMIT 5;"
      ],
      "metadata": {
        "id": "lTrtz9u5lWHD"
      },
      "id": "lTrtz9u5lWHD",
      "execution_count": null,
      "outputs": []
    },
    {
      "cell_type": "markdown",
      "source": [
        "### Generate text embeddings for subset of IMDB dataset"
      ],
      "metadata": {
        "id": "EkZL49ZPliC3"
      },
      "id": "EkZL49ZPliC3"
    },
    {
      "cell_type": "code",
      "source": [
        "%%bigquery\n",
        "# Create table containing movie_id, title, and year for movies in IMDB reviews dataset that were release prior to 1935\n",
        "CREATE OR REPLACE VIEW `masterclass.imdb_movies` AS\n",
        "(\n",
        "  WITH\n",
        "    reviews AS (\n",
        "      SELECT\n",
        "        reviews.movie_id AS movie_id,\n",
        "        title.primary_title AS title,\n",
        "        title.start_year AS year,\n",
        "        reviews.review AS review\n",
        "      FROM\n",
        "        `bigquery-public-data.imdb.reviews` reviews\n",
        "      LEFT JOIN\n",
        "        `bigquery-public-data.imdb.title_basics` title\n",
        "      ON\n",
        "        reviews.movie_id = title.tconst)\n",
        "  SELECT\n",
        "    DISTINCT(movie_id),\n",
        "    title,\n",
        "    year\n",
        "  FROM\n",
        "    reviews\n",
        "  WHERE\n",
        "    year < 1935\n",
        ")"
      ],
      "metadata": {
        "id": "CZsFDQmXlhLW"
      },
      "id": "CZsFDQmXlhLW",
      "execution_count": null,
      "outputs": []
    },
    {
      "cell_type": "code",
      "source": [
        "%%bigquery\n",
        "CREATE OR REPLACE TABLE\n",
        "  `masterclass.imdb_movies_embeddings` AS (\n",
        "  SELECT\n",
        "    *\n",
        "  FROM\n",
        "    ML.GENERATE_EMBEDDING( MODEL `masterclass.text_multilingual_embedding`,\n",
        "      (\n",
        "      SELECT\n",
        "        CONCAT('The movie titled ', title, ' from the year ', year,'.') AS content,\n",
        "        title,\n",
        "        year,\n",
        "        movie_id\n",
        "      FROM\n",
        "        `masterclass.imdb_movies` ),\n",
        "      STRUCT(TRUE AS flatten_json_output) )\n",
        "  WHERE\n",
        "    ml_generate_embedding_status = '' );"
      ],
      "metadata": {
        "id": "vpWbkUtXltwg"
      },
      "id": "vpWbkUtXltwg",
      "execution_count": null,
      "outputs": []
    },
    {
      "cell_type": "markdown",
      "source": [
        "### Match movie poster images to IMDB `movie_id` using BigQuery `VECTOR_SEARCH`"
      ],
      "metadata": {
        "id": "C2XVmJGfl1tH"
      },
      "id": "C2XVmJGfl1tH"
    },
    {
      "cell_type": "code",
      "source": [
        "%%bigquery\n",
        "SELECT\n",
        "  query.uri AS poster_uri,\n",
        "  query.title AS poster_title,\n",
        "  query.year AS poster_year,\n",
        "  base.title AS imdb_title,\n",
        "  base.year AS imdb_year,\n",
        "  base.movie_id AS imdb_movie_id,\n",
        "  distance\n",
        "FROM\n",
        "  VECTOR_SEARCH( TABLE `masterclass.imdb_movies_embeddings`,\n",
        "    'ml_generate_embedding_result',\n",
        "    TABLE `masterclass.movie_posters_results_embeddings`,\n",
        "    'ml_generate_embedding_result',\n",
        "    top_k => 1,\n",
        "    distance_type => 'COSINE');"
      ],
      "metadata": {
        "id": "HEURNX9Sl9KF"
      },
      "id": "HEURNX9Sl9KF",
      "execution_count": null,
      "outputs": []
    },
    {
      "cell_type": "code",
      "source": [
        "%%bigquery\n",
        "SELECT\n",
        "  query.uri AS poster_uri,\n",
        "  query.title AS poster_title,\n",
        "  query.year AS poster_year,\n",
        "  base.title AS imdb_title,\n",
        "  base.year AS imdb_year,\n",
        "  base.movie_id AS imdb_movie_id,\n",
        "  distance,\n",
        "  imdb.average_rating,\n",
        "  imdb.num_votes\n",
        "FROM\n",
        "  VECTOR_SEARCH( TABLE `masterclass.imdb_movies_embeddings`,\n",
        "    'ml_generate_embedding_result',\n",
        "    TABLE `masterclass.movie_posters_results_embeddings`,\n",
        "    'ml_generate_embedding_result',\n",
        "    top_k => 1,\n",
        "    distance_type => 'COSINE') DATA\n",
        "LEFT JOIN\n",
        "  `bigquery-public-data.imdb.title_ratings` imdb\n",
        "ON\n",
        "  base.movie_id = imdb.tconst\n",
        "ORDER BY\n",
        "  imdb.average_rating DESC"
      ],
      "metadata": {
        "id": "-MVNxXlsmMq4"
      },
      "id": "-MVNxXlsmMq4",
      "execution_count": null,
      "outputs": []
    },
    {
      "cell_type": "markdown",
      "source": [
        "## Cleaning up"
      ],
      "metadata": {
        "id": "aZkWZ3kJnqUH"
      },
      "id": "aZkWZ3kJnqUH"
    },
    {
      "cell_type": "code",
      "source": [
        "#\n",
        "# !bq rm -r -f $PROJECT_ID:masterclass\n",
        "# !bq rm --connection --project_id=$PROJECT_ID --location=us masterclass\n",
        "#"
      ],
      "metadata": {
        "id": "YAZNhcWBns5m"
      },
      "id": "YAZNhcWBns5m",
      "execution_count": null,
      "outputs": []
    }
  ],
  "metadata": {
    "kernelspec": {
      "display_name": "Python 3",
      "language": "python",
      "name": "python3"
    },
    "language_info": {
      "codemirror_mode": {
        "name": "ipython",
        "version": 3
      },
      "file_extension": ".py",
      "mimetype": "text/x-python",
      "name": "python",
      "nbconvert_exporter": "python",
      "pygments_lexer": "ipython3",
      "version": "3.10.10"
    },
    "colab": {
      "provenance": [],
      "name": "masterclass/Lab 1 - Multimodal Data Enrichment.ipynb",
      "collapsed_sections": [
        "TdqsTFEH8U97",
        "aZkWZ3kJnqUH"
      ]
    }
  },
  "nbformat": 4,
  "nbformat_minor": 5
}
